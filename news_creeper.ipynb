{
 "cells": [
  {
   "cell_type": "code",
   "execution_count": 2,
   "metadata": {},
   "outputs": [],
   "source": [
    "from bs4 import BeautifulSoup\n",
    "import requests\n",
    "from weasyprint import HTML, CSS\n",
    "from nhk_news_creeper import NHK_creeper\n",
    "from bs4.element import Tag"
   ]
  },
  {
   "cell_type": "code",
   "execution_count": 3,
   "metadata": {},
   "outputs": [
    {
     "name": "stdout",
     "output_type": "stream",
     "text": [
      "title=<ruby>日本<rt>にっぽん</rt></ruby>に<ruby>旅行<rt>りょこう</rt></ruby>に<ruby>来<rt>き</rt></ruby>た<ruby>外国人<rt>がいこくじん</rt></ruby><ruby>今年<rt>ことし</rt></ruby>1<ruby>月<rt>がつ</rt></ruby>から6<ruby>月<rt>がつ</rt></ruby>は1000<ruby>万<rt>まん</rt></ruby><ruby>人<rt>にん</rt></ruby><ruby>以上<rt>いじょう</rt></ruby>\n"
     ]
    }
   ],
   "source": [
    "a = NHK_creeper(url='https://www3.nhk.or.jp/news/easy/k10014135301000/k10014135301000.html',date='2023-07-21')\n"
   ]
  },
  {
   "cell_type": "code",
   "execution_count": 4,
   "metadata": {},
   "outputs": [],
   "source": [
    "a.printPDF()"
   ]
  },
  {
   "cell_type": "code",
   "execution_count": null,
   "metadata": {},
   "outputs": [],
   "source": [
    "import pdfkit\n",
    "\n",
    "config = pdfkit.configuration(wkhtmltopdf=r'C:\\Program Files\\wkhtmltopdf\\bin\\wkhtmltopdf.exe')\n",
    "options = {\n",
    "    'no-stop-slow-scripts': None,\n",
    "    'image-quality': '100',\n",
    "    'enable-local-file-access': None,\n",
    "    'margin-top': '0',\n",
    "    'page-size': 'A4',\n",
    "    'margin-right': '0',\n",
    "    'margin-bottom': '0',\n",
    "    'margin-left': '0',\n",
    "    'encoding': \"UTF-8\",\n",
    "    \n",
    "}\n",
    "# pdfkit.from_file(\"./bind.html\", './实验/bind_pdfkit.pdf',configuration=config)\n",
    "\n",
    "pdfkit.from_file(\"./实验/07102.html\", './实验/07102.pdf',configuration=config,options=options)\n",
    "pdfkit.from_file(\"../test/newA4.html\", './实验/newA4.pdf',configuration=config,options=options)\n",
    "# pdfkit.from_url(\"https://weasyprint.org/\", './实验/website.pdf',configuration=config,options=options)\n",
    "# pdfkit.from_file(\"./实验/pdfkit_image.html\",'./实验/pdfkit_image.pdf',configuration=config,options=options)\n",
    "# pdfkit.from_url('https://zhuanlan.zhihu.com/p/633723565','text.pdf',configuration=config,options=options)"
   ]
  },
  {
   "cell_type": "code",
   "execution_count": null,
   "metadata": {},
   "outputs": [],
   "source": [
    "response = requests.get('https://www3.nhk.or.jp/news/easy/k10014124161000/k10014124161000.html')\n",
    "response.encoding = 'utf-8'\n",
    "soup = BeautifulSoup(markup=response.text, features='html.parser')"
   ]
  },
  {
   "cell_type": "code",
   "execution_count": null,
   "metadata": {},
   "outputs": [],
   "source": [
    "#标题收集\n",
    "soup.select('.article-main__title')\n",
    "h1_tag = soup.find('h1', class_='article-main__title')\n",
    "title = h1_tag.get_text(strip=True)\n",
    "h1_tag.getText(strip=True)"
   ]
  },
  {
   "cell_type": "code",
   "execution_count": null,
   "metadata": {},
   "outputs": [],
   "source": [
    "title"
   ]
  },
  {
   "cell_type": "code",
   "execution_count": null,
   "metadata": {},
   "outputs": [],
   "source": [
    "h1_tag.contents[0]"
   ]
  },
  {
   "cell_type": "code",
   "execution_count": null,
   "metadata": {},
   "outputs": [],
   "source": [
    "#文体收集\n",
    "text = soup.select('.article-main__body')\n",
    "p_set = soup.find(id='js-article-body').find_all('p')\n",
    "p_set[3].getText(strip=True)"
   ]
  },
  {
   "cell_type": "code",
   "execution_count": null,
   "metadata": {},
   "outputs": [],
   "source": [
    "p_set"
   ]
  },
  {
   "cell_type": "code",
   "execution_count": null,
   "metadata": {},
   "outputs": [],
   "source": [
    "import re\n",
    "\n",
    "string = p_set[0].decode()\n",
    "pattern = r'<(/?span|/?p)[^>]*>'\n",
    "result = re.sub(pattern, '', string)\n",
    "print(result)"
   ]
  },
  {
   "cell_type": "code",
   "execution_count": 5,
   "metadata": {},
   "outputs": [],
   "source": [
    "import mysql.connector\n",
    "\n",
    "# 建立与MySQL数据库的连接\n",
    "cnx = mysql.connector.connect(\n",
    "    host='520.ttyuki.cn',\n",
    "    user='dachui5014',\n",
    "    password='1999xxy2038',\n",
    "    database='dachui5014',\n",
    "    charset='utf8'\n",
    ")\n",
    "\n",
    "# 创建游标对象\n",
    "cursor = cnx.cursor()\n",
    "\n",
    "# 插入音频数据\n",
    "insert_query = \"\"\"\n",
    "INSERT INTO JapaneseNewsAudio (audio_name, audio_date, audio_content)\n",
    "VALUES (%s, %s, %s)\n",
    "\"\"\"\n",
    "\n",
    "# 示例音频数据\n",
    "name = 'NHK Easy News'\n",
    "audio_data = [\n",
    "    (name+' 2023-07-21', '2023-07-21', \".\\\\music\\\\0721.mp3\"),\n",
    "    # (name+' 2023-07-11', '2023-07-11', \".\\\\music\\\\0711.mp3\"),\n",
    "    # (name+' 2023-07-12', '2023-07-12',\".\\\\music\\\\0712.mp3\"),\n",
    "    # (name+' 2023-07-13', '2023-07-13', \".\\\\music\\\\0713.mp3\")\n",
    "]\n",
    "\n",
    "# 执行插入操作\n",
    "cursor.executemany(insert_query, audio_data)\n",
    "\n",
    "# 提交事务\n",
    "cnx.commit()\n",
    "\n",
    "# 读取结果集（可选）\n",
    "cursor.fetchall()\n",
    "\n",
    "# 关闭游标和数据库连接\n",
    "cursor.close()\n",
    "cnx.close()\n"
   ]
  },
  {
   "cell_type": "code",
   "execution_count": null,
   "metadata": {},
   "outputs": [],
   "source": [
    "!pip install mysql"
   ]
  },
  {
   "cell_type": "code",
   "execution_count": null,
   "metadata": {},
   "outputs": [],
   "source": [
    "!pip install mysql-connector-python\n"
   ]
  },
  {
   "cell_type": "code",
   "execution_count": null,
   "metadata": {},
   "outputs": [],
   "source": [
    "import qrcode\n",
    "from PIL import Image\n",
    "import base64\n",
    "# 生成二维码\n",
    "url = \"http://iibread.xyz/player/index.html?date=2023\"\n",
    "qr = qrcode.QRCode(version=1, box_size=10, border=5)\n",
    "qr.add_data(url)\n",
    "qr.make(fit=True)\n",
    "img = qr.make_image(fill_color=\"black\", back_color=\"white\")\n",
    "\n",
    "# 将二维码转换为黑白图像\n",
    "img = img.convert('1')\n",
    "img = qr.make_image(fill_color=\"black\", back_color=(255, 255, 255, 0))\n",
    "# 保存图像\n",
    "img.save('qrcode.png')\n",
    "# 打开图像文件\n",
    "with open(\"qrcode.png\", \"rb\") as image_file:\n",
    "    # 读取图像文件内容\n",
    "    image_data = image_file.read()\n",
    "    # 将图像内容转换为base64编码\n",
    "    base64_data = base64.b64encode(image_data).decode('utf-8')\n",
    "    # 打印base64编码\n",
    "    print(base64_data)\n"
   ]
  },
  {
   "cell_type": "code",
   "execution_count": null,
   "metadata": {},
   "outputs": [],
   "source": [
    "from PIL import Image\n",
    "\n",
    "# 打开文件\n",
    "img = Image.open(\"qrcode.png\")\n",
    "\n",
    "# 将白色部分变成透明底\n",
    "img = img.convert(\"RGBA\")\n",
    "datas = img.getdata()\n",
    "newData = []\n",
    "for item in datas:\n",
    "    if item[0] == 255 and item[1] == 255 and item[2] == 255:\n",
    "        newData.append((255, 255, 255, 0))\n",
    "    else:\n",
    "        newData.append(item)\n",
    "\n",
    "img.putdata(newData)\n",
    "\n",
    "# 保存结果\n",
    "img.save(\"output.png\", \"PNG\")"
   ]
  },
  {
   "cell_type": "code",
   "execution_count": 4,
   "metadata": {},
   "outputs": [
    {
     "ename": "DeprecationError",
     "evalue": "PdfFileReader is deprecated and was removed in PyPDF2 3.0.0. Use PdfReader instead.",
     "output_type": "error",
     "traceback": [
      "\u001b[1;31m---------------------------------------------------------------------------\u001b[0m",
      "\u001b[1;31mDeprecationError\u001b[0m                          Traceback (most recent call last)",
      "Cell \u001b[1;32mIn[4], line 6\u001b[0m\n\u001b[0;32m      3\u001b[0m \u001b[39m# Open the PDF file\u001b[39;00m\n\u001b[0;32m      4\u001b[0m \u001b[39mwith\u001b[39;00m \u001b[39mopen\u001b[39m(\u001b[39mr\u001b[39m\u001b[39m'\u001b[39m\u001b[39mC:\u001b[39m\u001b[39m\\\u001b[39m\u001b[39mUsers\u001b[39m\u001b[39m\\\u001b[39m\u001b[39m杨建飞\u001b[39m\u001b[39m\\\u001b[39m\u001b[39mDownloads\u001b[39m\u001b[39m\\\u001b[39m\u001b[39mstudent 37226964_Jianfei Yang_研究概要 revised.pdf\u001b[39m\u001b[39m'\u001b[39m, \u001b[39m'\u001b[39m\u001b[39mrb\u001b[39m\u001b[39m'\u001b[39m) \u001b[39mas\u001b[39;00m file:\n\u001b[0;32m      5\u001b[0m     \u001b[39m# Create a PDF reader object\u001b[39;00m\n\u001b[1;32m----> 6\u001b[0m     reader \u001b[39m=\u001b[39m PyPDF2\u001b[39m.\u001b[39;49mPdfFileReader(file)\n\u001b[0;32m      8\u001b[0m     \u001b[39m# Create a PDF writer object\u001b[39;00m\n\u001b[0;32m      9\u001b[0m     writer \u001b[39m=\u001b[39m PyPDF2\u001b[39m.\u001b[39mPdfFileWriter()\n",
      "File \u001b[1;32md:\\Anaconda\\envs\\Pyside6\\Lib\\site-packages\\PyPDF2\\_reader.py:1974\u001b[0m, in \u001b[0;36mPdfFileReader.__init__\u001b[1;34m(self, *args, **kwargs)\u001b[0m\n\u001b[0;32m   1973\u001b[0m \u001b[39mdef\u001b[39;00m \u001b[39m__init__\u001b[39m(\u001b[39mself\u001b[39m, \u001b[39m*\u001b[39margs: Any, \u001b[39m*\u001b[39m\u001b[39m*\u001b[39mkwargs: Any) \u001b[39m-\u001b[39m\u001b[39m>\u001b[39m \u001b[39mNone\u001b[39;00m:\n\u001b[1;32m-> 1974\u001b[0m     deprecation_with_replacement(\u001b[39m\"\u001b[39;49m\u001b[39mPdfFileReader\u001b[39;49m\u001b[39m\"\u001b[39;49m, \u001b[39m\"\u001b[39;49m\u001b[39mPdfReader\u001b[39;49m\u001b[39m\"\u001b[39;49m, \u001b[39m\"\u001b[39;49m\u001b[39m3.0.0\u001b[39;49m\u001b[39m\"\u001b[39;49m)\n\u001b[0;32m   1975\u001b[0m     \u001b[39mif\u001b[39;00m \u001b[39m\"\u001b[39m\u001b[39mstrict\u001b[39m\u001b[39m\"\u001b[39m \u001b[39mnot\u001b[39;00m \u001b[39min\u001b[39;00m kwargs \u001b[39mand\u001b[39;00m \u001b[39mlen\u001b[39m(args) \u001b[39m<\u001b[39m \u001b[39m2\u001b[39m:\n\u001b[0;32m   1976\u001b[0m         kwargs[\u001b[39m\"\u001b[39m\u001b[39mstrict\u001b[39m\u001b[39m\"\u001b[39m] \u001b[39m=\u001b[39m \u001b[39mTrue\u001b[39;00m  \u001b[39m# maintain the default\u001b[39;00m\n",
      "File \u001b[1;32md:\\Anaconda\\envs\\Pyside6\\Lib\\site-packages\\PyPDF2\\_utils.py:369\u001b[0m, in \u001b[0;36mdeprecation_with_replacement\u001b[1;34m(old_name, new_name, removed_in)\u001b[0m\n\u001b[0;32m    363\u001b[0m \u001b[39mdef\u001b[39;00m \u001b[39mdeprecation_with_replacement\u001b[39m(\n\u001b[0;32m    364\u001b[0m     old_name: \u001b[39mstr\u001b[39m, new_name: \u001b[39mstr\u001b[39m, removed_in: \u001b[39mstr\u001b[39m \u001b[39m=\u001b[39m \u001b[39m\"\u001b[39m\u001b[39m3.0.0\u001b[39m\u001b[39m\"\u001b[39m\n\u001b[0;32m    365\u001b[0m ) \u001b[39m-\u001b[39m\u001b[39m>\u001b[39m \u001b[39mNone\u001b[39;00m:\n\u001b[0;32m    366\u001b[0m \u001b[39m    \u001b[39m\u001b[39m\"\"\"\u001b[39;00m\n\u001b[0;32m    367\u001b[0m \u001b[39m    Raise an exception that a feature was already removed, but has a replacement.\u001b[39;00m\n\u001b[0;32m    368\u001b[0m \u001b[39m    \"\"\"\u001b[39;00m\n\u001b[1;32m--> 369\u001b[0m     deprecation(DEPR_MSG_HAPPENED\u001b[39m.\u001b[39;49mformat(old_name, removed_in, new_name))\n",
      "File \u001b[1;32md:\\Anaconda\\envs\\Pyside6\\Lib\\site-packages\\PyPDF2\\_utils.py:351\u001b[0m, in \u001b[0;36mdeprecation\u001b[1;34m(msg)\u001b[0m\n\u001b[0;32m    350\u001b[0m \u001b[39mdef\u001b[39;00m \u001b[39mdeprecation\u001b[39m(msg: \u001b[39mstr\u001b[39m) \u001b[39m-\u001b[39m\u001b[39m>\u001b[39m \u001b[39mNone\u001b[39;00m:\n\u001b[1;32m--> 351\u001b[0m     \u001b[39mraise\u001b[39;00m DeprecationError(msg)\n",
      "\u001b[1;31mDeprecationError\u001b[0m: PdfFileReader is deprecated and was removed in PyPDF2 3.0.0. Use PdfReader instead."
     ]
    }
   ],
   "source": [
    "import PyPDF2\n",
    "\n",
    "# Open the PDF file\n",
    "with open(r'C:\\Users\\杨建飞\\Downloads\\student 37226964_Jianfei Yang_研究概要 revised.pdf', 'rb') as file:\n",
    "    # Create a PDF reader object\n",
    "    reader = PyPDF2.PdfFileReader(file)\n",
    "    \n",
    "    # Create a PDF writer object\n",
    "    writer = PyPDF2.PdfFileWriter()\n",
    "    \n",
    "    # Loop through the first 4 pages of the PDF file\n",
    "    for i in range(4):\n",
    "        # Get the page at index i\n",
    "        page = reader.getPage(i)\n",
    "        \n",
    "        # Add the page to the PDF writer object\n",
    "        writer.addPage(page)\n",
    "    \n",
    "    # Write the output PDF file\n",
    "    with open('output.pdf', 'wb') as output:\n",
    "        writer.write(output)"
   ]
  },
  {
   "cell_type": "code",
   "execution_count": 3,
   "metadata": {},
   "outputs": [
    {
     "name": "stdout",
     "output_type": "stream",
     "text": [
      "Collecting pypdf2\n",
      "  Using cached pypdf2-3.0.1-py3-none-any.whl (232 kB)\n",
      "Installing collected packages: pypdf2\n",
      "Successfully installed pypdf2-3.0.1\n"
     ]
    }
   ],
   "source": [
    "!pip install pypdf2"
   ]
  },
  {
   "cell_type": "code",
   "execution_count": null,
   "metadata": {},
   "outputs": [],
   "source": []
  }
 ],
 "metadata": {
  "kernelspec": {
   "display_name": "Pyside6",
   "language": "python",
   "name": "python3"
  },
  "language_info": {
   "codemirror_mode": {
    "name": "ipython",
    "version": 3
   },
   "file_extension": ".py",
   "mimetype": "text/x-python",
   "name": "python",
   "nbconvert_exporter": "python",
   "pygments_lexer": "ipython3",
   "version": "3.11.3"
  },
  "orig_nbformat": 4
 },
 "nbformat": 4,
 "nbformat_minor": 2
}
