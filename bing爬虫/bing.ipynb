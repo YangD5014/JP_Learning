{
 "cells": [
  {
   "cell_type": "code",
   "execution_count": 1,
   "metadata": {},
   "outputs": [],
   "source": [
    "from bs4 import BeautifulSoup\n",
    "import requests\n",
    "from weasyprint import HTML, CSS\n",
    "from bs4.element import Tag\n",
    "from Bing_creeper import BingCreeper\n",
    "from pykakasi import kakasi\n",
    "\n",
    "creeper = BingCreeper(url='https://www.msn.com/ja-jp/news/world/%E4%B8%AD%E3%83%AD%E9%A6%96%E8%84%B3%E3%81%8C%E5%AF%BE%E7%B1%B3%E6%AC%A7%E3%81%A7%E7%B5%90%E6%9D%9F%E7%A4%BA%E3%81%99-%E4%B8%AD%E6%9D%B1%E6%83%85%E5%8B%A2%E3%82%82%E8%AD%B0%E8%AB%96-%E6%96%B0%E3%81%9F%E3%81%AA%E5%9B%BD%E9%9A%9B%E7%A7%A9%E5%BA%8F%E3%82%92%E4%B8%BB%E5%BC%B5/ar-AA1irxcy?ocid=BingHPCTop')"
   ]
  },
  {
   "cell_type": "code",
   "execution_count": 3,
   "metadata": {},
   "outputs": [
    {
     "data": {
      "text/plain": [
       "True"
      ]
     },
     "execution_count": 3,
     "metadata": {},
     "output_type": "execute_result"
    }
   ],
   "source": [
    "import pdfkit\n",
    "config = pdfkit.configuration(wkhtmltopdf=r'C:\\Program Files\\wkhtmltopdf\\bin\\wkhtmltopdf.exe')\n",
    "pdf_path = './'+creeper.news.author+creeper.news.date+creeper.news_title[:10]+'output.pdf'\n",
    "options = {\n",
    "'no-stop-slow-scripts': None,\n",
    "'image-quality': '100',\n",
    "'enable-local-file-access': None,\n",
    "'margin-top': '0',\n",
    "'page-size': 'A4',\n",
    "'margin-right': '0',\n",
    "'margin-bottom': '0',\n",
    "'margin-left': '0',\n",
    "'encoding': \"UTF-8\",}\n",
    "pdfkit.from_file('./src/2023-10-18_朝日新聞社中ロ首脳が対米欧で結.html', pdf_path,configuration=config,options=options) \n"
   ]
  },
  {
   "cell_type": "code",
   "execution_count": null,
   "metadata": {},
   "outputs": [],
   "source": [
    "response.content"
   ]
  },
  {
   "cell_type": "code",
   "execution_count": null,
   "metadata": {},
   "outputs": [],
   "source": [
    "appid = '20191107000354007'\n",
    "key = 'uCqsidm6I7Ssa8aU1pgZ'\n",
    "\n",
    "qurry ='日大アメフト部の大麻事件、逮捕の４年生と３年生は学生寮で同じ部屋…ＳＮＳで情報交換'\n",
    "_from = 'jp'\n",
    "to = 'zh'\n",
    "\n"
   ]
  }
 ],
 "metadata": {
  "kernelspec": {
   "display_name": "base",
   "language": "python",
   "name": "python3"
  },
  "language_info": {
   "codemirror_mode": {
    "name": "ipython",
    "version": 3
   },
   "file_extension": ".py",
   "mimetype": "text/x-python",
   "name": "python",
   "nbconvert_exporter": "python",
   "pygments_lexer": "ipython3",
   "version": "3.11.4"
  }
 },
 "nbformat": 4,
 "nbformat_minor": 2
}
