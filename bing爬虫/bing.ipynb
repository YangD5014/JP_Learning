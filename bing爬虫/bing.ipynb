{
 "cells": [
  {
   "cell_type": "code",
   "execution_count": 6,
   "metadata": {},
   "outputs": [],
   "source": [
    "from bs4 import BeautifulSoup\n",
    "import requests\n",
    "from weasyprint import HTML, CSS\n",
    "from bs4.element import Tag\n",
    "from Bing_creeper import BingCreeper\n",
    "from pykakasi import kakasi"
   ]
  },
  {
   "cell_type": "code",
   "execution_count": 4,
   "metadata": {},
   "outputs": [],
   "source": [
    "creeper = BingCreeper(url='https://www.msn.com/ja-jp/news/techandscience/%E7%A6%8F%E5%B3%B6%E7%AC%AC%E4%B8%80%E5%8E%9F%E7%99%BA%E3%81%AE%E5%87%A6%E7%90%86%E6%B0%B4-%E4%B8%AD%E5%9B%BD%E3%81%AE%E5%88%86%E6%9E%90%E6%A9%9F%E9%96%A2%E3%82%82%E5%8F%82%E5%8A%A0%E3%81%97%EF%BD%89%EF%BD%81%EF%BD%85%EF%BD%81%E3%81%8C%E6%B5%B7%E6%B0%B4%E8%AA%BF%E6%9F%BB/ar-AA1ihGzO?ocid=finance-verthp-feeds&cvid=a66290774fe94336ba293393abb3dd60&ei=9')"
   ]
  },
  {
   "cell_type": "code",
   "execution_count": 5,
   "metadata": {},
   "outputs": [
    {
     "data": {
      "text/plain": [
       "['\\u3000東京電力福島第一原子力発電所の処理水海洋放出を受け、国際原子力機関（ＩＡＥＡ）は１６日、同原発周辺の海水などの調査を開始した。調査には、ＩＡＥＡが指名した中国の分析機関が初めて参加した。',\n",
       " '\\u3000２３日までの期間中、ＩＡＥＡと、環境省や水産庁、原子力規制委員会、東電が共同で、原発周辺の海水や魚類などを採取し、各機関で放射能濃度などを測定する。初日は海水と海底土を採取した。データはＩＡＥＡが集約し、報告書として公表する。',\n",
       " '\\u3000調査には、ＩＡＥＡが指名した中国自然資源省第３海洋研究所、韓国原子力安全技術院、カナダ保健省が第三国の立場で参加している。２０１４年の調査開始以来、中国の分析機関が選ばれたのは初めて。ＩＡＥＡは科学的根拠に基づかず放出に反対する中国を加え、より客観的に安全性を検証する狙いがあるとみられる。']"
      ]
     },
     "execution_count": 5,
     "metadata": {},
     "output_type": "execute_result"
    }
   ],
   "source": [
    "creeper.news.content\n"
   ]
  },
  {
   "cell_type": "code",
   "execution_count": 9,
   "metadata": {},
   "outputs": [],
   "source": [
    "text = creeper.news.content[0]\n",
    "kakasi_instance = kakasi()\n",
    "# 使用Kakasi进行转换\n",
    "converted_text = kakasi_instance.convert(text)\n",
    "after_text = ''\n",
    "for i in converted_text:\n",
    "    if i['orig'] == i['hira']:\n",
    "        after_text += i['orig']\n",
    "    else:\n",
    "        after_text += '<ruby>'+i['orig']+'<rt>'+i['hira']+'</rt></ruby>'"
   ]
  },
  {
   "cell_type": "code",
   "execution_count": 10,
   "metadata": {},
   "outputs": [
    {
     "data": {
      "text/plain": [
       "'\\u3000<ruby>東京電力<rt>とうきょうでんりょく</rt></ruby><ruby>福島<rt>ふくしま</rt></ruby><ruby>第一<rt>だいいち</rt></ruby><ruby>原子力発電所<rt>げんしりょくはつでんしょ</rt></ruby>の<ruby>処理<rt>しょり</rt></ruby><ruby>水<rt>みず</rt></ruby><ruby>海洋<rt>かいよう</rt></ruby><ruby>放出<rt>ほうしゅつ</rt></ruby>を<ruby>受け、<rt>うけ、</rt></ruby><ruby>国際<rt>こくさい</rt></ruby><ruby>原子力<rt>げんしりょく</rt></ruby><ruby>機関<rt>きかん</rt></ruby>（ＩＡＥＡ）は１６<ruby>日、<rt>にち、</rt></ruby><ruby>同<rt>どう</rt></ruby><ruby>原発<rt>げんぱつ</rt></ruby><ruby>周辺<rt>しゅうへん</rt></ruby>の<ruby>海水<rt>かいすい</rt></ruby>などの<ruby>調査<rt>ちょうさ</rt></ruby>を<ruby>開始<rt>かいし</rt></ruby>した。<ruby>調査<rt>ちょうさ</rt></ruby>には、ＩＡＥＡが<ruby>指名<rt>しめい</rt></ruby>した<ruby>中国<rt>ちゅうごく</rt></ruby>の<ruby>分析<rt>ぶんせき</rt></ruby><ruby>機関<rt>きかん</rt></ruby>が<ruby>初めて<rt>はじめて</rt></ruby><ruby>参加<rt>さんか</rt></ruby>した。'"
      ]
     },
     "execution_count": 10,
     "metadata": {},
     "output_type": "execute_result"
    }
   ],
   "source": [
    "after_text"
   ]
  },
  {
   "cell_type": "code",
   "execution_count": null,
   "metadata": {},
   "outputs": [],
   "source": []
  }
 ],
 "metadata": {
  "kernelspec": {
   "display_name": "base",
   "language": "python",
   "name": "python3"
  },
  "language_info": {
   "codemirror_mode": {
    "name": "ipython",
    "version": 3
   },
   "file_extension": ".py",
   "mimetype": "text/x-python",
   "name": "python",
   "nbconvert_exporter": "python",
   "pygments_lexer": "ipython3",
   "version": "3.11.4"
  }
 },
 "nbformat": 4,
 "nbformat_minor": 2
}
