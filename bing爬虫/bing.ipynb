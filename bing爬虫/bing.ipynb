{
 "cells": [
  {
   "cell_type": "code",
   "execution_count": 1,
   "metadata": {},
   "outputs": [
    {
     "name": "stdout",
     "output_type": "stream",
     "text": [
      "翻译结果是=处理水放出“没有问题”IAEA强调确保信赖酿造的透明性东电福岛第一核电站\n",
      "翻译结果是=国际原子能机构（IAEA）19日，关于东京电力福岛第1核电站的处理水海洋放出的现状，表示了「完全没有问题地被实行，被评价为顺利进行着」的见解。他还强调，将根据国际安全标准对海洋排放进行中长期评价，确保与国际社会的信赖形成相关的透明性。IAEA事务次长利迪·埃布拉尔在经济产业省与岩田和亲经产副大臣进行了会谈，并直接传达了这一消息。（2面相关报道）\n",
      "翻译结果是=IAEA在福岛第一核电站内设立了当地事务所。工作人员确认，处理水的第一次和第二次海洋排放中放射性物质氚的浓度大幅低于使用标准（每升低于1500贝克勒尔）。考虑到这一举措，埃布拉尔事务次长表示，“无论是在处理水的排放过程中还是排放后，都将全面支持日本政府。通过常驻职员的监测，确认当地的安全性，并继续与国际专家进行验证。”。\n",
      "翻译结果是=IAEA将于24～27日进行处理水海洋排放安全性验证活动。调查团派遣是8月24日开始释放后的第一次。除了IAEA职员外，还将由包括反对释放的中国在内的海外专家组成，听取东电和经产省负责人的意见，视察福岛第一核电站的释放设备等。埃布拉尔事务次长表示：“安全性评价是长期计划的一环。我们将继续开展确认释放是否符合国际安全标准的活动。”。\n"
     ]
    }
   ],
   "source": [
    "from bs4 import BeautifulSoup\n",
    "import requests\n",
    "from weasyprint import HTML, CSS\n",
    "from bs4.element import Tag\n",
    "from Bing_creeper import BingCreeper\n",
    "from pykakasi import kakasi\n",
    "\n",
    "creeper = BingCreeper(url='https://www.msn.com/ja-jp/money/other/%E5%87%A6%E7%90%86%E6%B0%B4%E6%94%BE%E5%87%BA-%E5%95%8F%E9%A1%8C%E3%81%AA%E3%81%97-%EF%BD%89%EF%BD%81%EF%BD%85%EF%BD%81-%E4%BF%A1%E9%A0%BC%E9%86%B8%E6%88%90%E3%81%B8%E9%80%8F%E6%98%8E%E6%80%A7%E3%81%AE%E7%A2%BA%E4%BF%9D%E5%BC%B7%E8%AA%BF-%E6%9D%B1%E9%9B%BB%E7%A6%8F%E5%B3%B6%E7%AC%AC%EF%BC%91%E5%8E%9F%E7%99%BA/ar-AA1ixqkz?ocid=BingHp01&cvid=7380dce8d3cb4ec681f93a492fafddf5&ei=12')"
   ]
  },
  {
   "cell_type": "code",
   "execution_count": null,
   "metadata": {},
   "outputs": [],
   "source": [
    "import os\n",
    "import azure.cognitiveservices.speech as speechsdk\n",
    "\n",
    "# This example requires environment variables named \"SPEECH_KEY\" and \"SPEECH_REGION\"\n",
    "speech_config = speechsdk.SpeechConfig(subscription='576c74fce86a41bdae3473085ce32be7', region='japaneast')\n",
    "audio_config = speechsdk.audio.AudioOutputConfig(filename='./src/sound/test2.mp3')\n",
    "\n",
    "# The language of the voice that speaks.\n",
    "speech_config.speech_synthesis_voice_name='ja-JP-KeitaNeural'\n",
    "speech_synthesizer = speechsdk.SpeechSynthesizer(speech_config=speech_config, audio_config=audio_config)\n"
   ]
  },
  {
   "cell_type": "code",
   "execution_count": null,
   "metadata": {},
   "outputs": [],
   "source": [
    "content = ';'.join(creeper.article_content)\n",
    "text = creeper.news_title+'.' + content\n",
    "text"
   ]
  },
  {
   "cell_type": "code",
   "execution_count": null,
   "metadata": {},
   "outputs": [],
   "source": [
    "creeper.news_title"
   ]
  },
  {
   "cell_type": "code",
   "execution_count": null,
   "metadata": {},
   "outputs": [],
   "source": [
    "\n",
    "\n",
    "\n",
    "speech_synthesis_result = speech_synthesizer.speak_text_async(text).get()\n",
    "\n",
    "if speech_synthesis_result.reason == speechsdk.ResultReason.SynthesizingAudioCompleted:\n",
    "    print(\"Speech synthesized for text [{}]\".format(text))\n",
    "elif speech_synthesis_result.reason == speechsdk.ResultReason.Canceled:\n",
    "    cancellation_details = speech_synthesis_result.cancellation_details\n",
    "    print(\"Speech synthesis canceled: {}\".format(cancellation_details.reason))\n",
    "    if cancellation_details.reason == speechsdk.CancellationReason.Error:\n",
    "        if cancellation_details.error_details:\n",
    "            print(\"Error details: {}\".format(cancellation_details.error_details))\n",
    "            print(\"Did you set the speech resource key and region values?\")"
   ]
  },
  {
   "cell_type": "code",
   "execution_count": null,
   "metadata": {},
   "outputs": [],
   "source": []
  },
  {
   "cell_type": "code",
   "execution_count": null,
   "metadata": {},
   "outputs": [],
   "source": [
    "creeper.news.content"
   ]
  },
  {
   "cell_type": "code",
   "execution_count": null,
   "metadata": {},
   "outputs": [],
   "source": [
    "import hashlib\n",
    "translate_url = \"http://api.fanyi.baidu.com/api/trans/vip/translate?\"\n",
    "querry =creeper.news_title\n",
    "appid = '20191107000354007'\n",
    "salt='1435660288'\n",
    "appkey = 'uCqsidm6I7Ssa8aU1pgZ'\n",
    "sign = hashlib.md5((appid+querry+salt+appkey).encode('utf-8')).hexdigest()\n",
    "translate_url+='q={querry}&from=jp&to=zh&appid={appid}&salt={salt}&sign={sign}'.format(querry=querry,appid=appid,salt=salt,sign=sign)"
   ]
  },
  {
   "cell_type": "code",
   "execution_count": null,
   "metadata": {},
   "outputs": [],
   "source": [
    "translate_url"
   ]
  },
  {
   "cell_type": "code",
   "execution_count": null,
   "metadata": {},
   "outputs": [],
   "source": [
    "reponse = requests.get(url=translate_url)\n",
    "reponse"
   ]
  },
  {
   "cell_type": "code",
   "execution_count": null,
   "metadata": {},
   "outputs": [],
   "source": [
    "reponse.json()['trans_result'][0]['dst']"
   ]
  },
  {
   "cell_type": "code",
   "execution_count": null,
   "metadata": {},
   "outputs": [],
   "source": [
    "creeper.article_content"
   ]
  },
  {
   "cell_type": "code",
   "execution_count": null,
   "metadata": {},
   "outputs": [],
   "source": [
    "import pdfkit\n",
    "config = pdfkit.configuration(wkhtmltopdf=r'C:\\Program Files\\wkhtmltopdf\\bin\\wkhtmltopdf.exe')\n",
    "pdf_path = './'+creeper.news.author+creeper.news.date+creeper.news_title[:10]+'2output.pdf'\n",
    "options = {\n",
    "'no-stop-slow-scripts': None,\n",
    "'image-quality': '100',\n",
    "'enable-local-file-access': None,\n",
    "'margin-top': '0',\n",
    "'page-size': 'A4',\n",
    "'margin-right': '0',\n",
    "'margin-bottom': '0',\n",
    "'margin-left': '0',\n",
    "'encoding': \"UTF-8\",}\n",
    "pdfkit.from_file('./src/2023-10-19_朝日新聞社渋谷暴動、大坂被告に.html', pdf_path,configuration=config,options=options) \n"
   ]
  },
  {
   "cell_type": "code",
   "execution_count": null,
   "metadata": {},
   "outputs": [],
   "source": [
    "response.content"
   ]
  },
  {
   "cell_type": "code",
   "execution_count": null,
   "metadata": {},
   "outputs": [],
   "source": [
    "appid = '20191107000354007'\n",
    "key = 'uCqsidm6I7Ssa8aU1pgZ'\n",
    "\n",
    "qurry ='日大アメフト部の大麻事件、逮捕の４年生と３年生は学生寮で同じ部屋…ＳＮＳで情報交換'\n",
    "_from = 'jp'\n",
    "to = 'zh'\n",
    "\n"
   ]
  },
  {
   "cell_type": "code",
   "execution_count": null,
   "metadata": {},
   "outputs": [],
   "source": [
    "a = ['','sds','kklj','sdsd']"
   ]
  },
  {
   "cell_type": "code",
   "execution_count": null,
   "metadata": {},
   "outputs": [],
   "source": [
    "b = [i for i in a if i != '']\n",
    "b"
   ]
  },
  {
   "cell_type": "code",
   "execution_count": null,
   "metadata": {},
   "outputs": [],
   "source": []
  }
 ],
 "metadata": {
  "kernelspec": {
   "display_name": "base",
   "language": "python",
   "name": "python3"
  },
  "language_info": {
   "codemirror_mode": {
    "name": "ipython",
    "version": 3
   },
   "file_extension": ".py",
   "mimetype": "text/x-python",
   "name": "python",
   "nbconvert_exporter": "python",
   "pygments_lexer": "ipython3",
   "version": "3.11.4"
  }
 },
 "nbformat": 4,
 "nbformat_minor": 2
}
