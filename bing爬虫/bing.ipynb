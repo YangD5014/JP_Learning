{
 "cells": [
  {
   "cell_type": "code",
   "execution_count": 4,
   "metadata": {},
   "outputs": [],
   "source": [
    "from bs4 import BeautifulSoup\n",
    "import requests\n",
    "from weasyprint import HTML, CSS\n",
    "from bs4.element import Tag\n",
    "from Bing_creeper import BingCreeper\n",
    "from pykakasi import kakasi\n",
    "\n",
    "creeper = BingCreeper(url='https://www.msn.com/ja-jp/news/national/%E6%97%A5%E5%A4%A7%E3%82%A2%E3%83%A1%E3%83%95%E3%83%88%E9%83%A8%E3%81%AE%E5%A4%A7%E9%BA%BB%E4%BA%8B%E4%BB%B6-%E9%80%AE%E6%8D%95%E3%81%AE%EF%BC%94%E5%B9%B4%E7%94%9F%E3%81%A8%EF%BC%93%E5%B9%B4%E7%94%9F%E3%81%AF%E5%AD%A6%E7%94%9F%E5%AF%AE%E3%81%A7%E5%90%8C%E3%81%98%E9%83%A8%E5%B1%8B-%EF%BD%93%EF%BD%8E%EF%BD%93%E3%81%A7%E6%83%85%E5%A0%B1%E4%BA%A4%E6%8F%9B/ar-AA1imvlx?ocid=finance-verthp-feeds&cvid=4681140f8cba4b71ae854f2e47591cde&ei=8')"
   ]
  },
  {
   "cell_type": "code",
   "execution_count": 3,
   "metadata": {},
   "outputs": [],
   "source": []
  },
  {
   "cell_type": "code",
   "execution_count": null,
   "metadata": {},
   "outputs": [],
   "source": [
    "a = creeper.article_dict\n"
   ]
  },
  {
   "cell_type": "code",
   "execution_count": null,
   "metadata": {},
   "outputs": [],
   "source": [
    "creeper.news.title"
   ]
  },
  {
   "cell_type": "code",
   "execution_count": null,
   "metadata": {},
   "outputs": [],
   "source": [
    "creeper.news.__dict__"
   ]
  },
  {
   "cell_type": "code",
   "execution_count": null,
   "metadata": {},
   "outputs": [],
   "source": [
    "a.split('T')[0]"
   ]
  },
  {
   "cell_type": "code",
   "execution_count": null,
   "metadata": {},
   "outputs": [],
   "source": [
    "from jinja2 import Template,Environment,FileSystemLoader\n",
    "env = Environment(loader=FileSystemLoader('.'))\n",
    "template = env.get_template('./src/bing_news_template.html')\n",
    "# 渲染模板并生成临时 HTML 文件\n",
    "rendered_html = template.render(data = creeper.news)\n",
    "with open('./src/'+creeper.news.date+'_'+creeper.news.author+'.html', 'w') as file:\n",
    "    file.write(rendered_html)"
   ]
  },
  {
   "cell_type": "code",
   "execution_count": null,
   "metadata": {},
   "outputs": [],
   "source": [
    "for i in creeper.news.title:\n",
    "    converted_text = creeper.kakasi_instance.convert(i)\n",
    "    after_text=''\n",
    "    for i in converted_text:\n",
    "        if i['orig'] == i['hira']:\n",
    "            after_text += i['orig']\n",
    "        else:\n",
    "            after_text += '<ruby>'+i['orig']+'<rt>'+i['hira']+'</rt></ruby>'\n",
    "    print(after_text)\n",
    "    "
   ]
  },
  {
   "cell_type": "code",
   "execution_count": null,
   "metadata": {},
   "outputs": [],
   "source": [
    "c"
   ]
  }
 ],
 "metadata": {
  "kernelspec": {
   "display_name": "base",
   "language": "python",
   "name": "python3"
  },
  "language_info": {
   "codemirror_mode": {
    "name": "ipython",
    "version": 3
   },
   "file_extension": ".py",
   "mimetype": "text/x-python",
   "name": "python",
   "nbconvert_exporter": "python",
   "pygments_lexer": "ipython3",
   "version": "3.11.4"
  }
 },
 "nbformat": 4,
 "nbformat_minor": 2
}
